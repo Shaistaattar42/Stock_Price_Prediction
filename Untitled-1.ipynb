{
 "cells": [
  {
   "cell_type": "code",
   "execution_count": 3,
   "metadata": {},
   "outputs": [
    {
     "name": "stderr",
     "output_type": "stream",
     "text": [
      "[*********************100%%**********************]  1 of 1 completed"
     ]
    },
    {
     "name": "stdout",
     "output_type": "stream",
     "text": [
      "                 Open       High        Low      Close  Adj Close    Volume\n",
      "Date                                                                       \n",
      "2020-01-02  10.300000  10.340000  10.230000  10.290000   9.198477   5688000\n",
      "2020-01-03  10.290000  10.350000  10.260000  10.310000   9.216355   6992200\n",
      "2020-01-06  10.220000  10.250000  10.170000  10.210000   9.126963  10068900\n",
      "2020-01-07  10.120000  10.170000  10.100000  10.100000   9.028631  10589100\n",
      "2020-01-08  10.000000  10.120000   9.990000  10.090000   9.019693  13440400\n",
      "...               ...        ...        ...        ...        ...       ...\n",
      "2023-12-22  18.700001  18.889999  18.639999  18.760000  18.387468   7018100\n",
      "2023-12-26  18.639999  18.670000  18.370001  18.450001  18.083626   3866200\n",
      "2023-12-27  18.639999  18.680000  18.450001  18.600000  18.230646   4338000\n",
      "2023-12-28  18.610001  18.680000  18.530001  18.559999  18.191439   3308700\n",
      "2023-12-29  18.500000  18.530001  18.320000  18.379999  18.015013   2864800\n",
      "\n",
      "[1006 rows x 6 columns]\n"
     ]
    },
    {
     "name": "stderr",
     "output_type": "stream",
     "text": [
      "\n"
     ]
    }
   ],
   "source": [
    "import yfinance as yf\n",
    "\n",
    "# Step 1: Data Collection\n",
    "def fetch_stock_data(ticker, start_date, end_date):\n",
    "    stock_data = yf.download(ticker, start=start_date, end=end_date)\n",
    "    return stock_data\n",
    "\n",
    "# Example Usage\n",
    "ticker = 'INFY'  # Tata Steel's ticker symbol on NSE\n",
    "start_date = '2020-01-01'\n",
    "end_date = '2023-12-31'\n",
    "\n",
    "data = fetch_stock_data(ticker, start_date, end_date)\n",
    "print(data)\n",
    "\n",
    "# Save dataset to a CSV file if needed\n",
    "data.to_csv('INFOSYS.csv')\n",
    "\n"
   ]
  }
 ],
 "metadata": {
  "kernelspec": {
   "display_name": "Python 3",
   "language": "python",
   "name": "python3"
  },
  "language_info": {
   "codemirror_mode": {
    "name": "ipython",
    "version": 3
   },
   "file_extension": ".py",
   "mimetype": "text/x-python",
   "name": "python",
   "nbconvert_exporter": "python",
   "pygments_lexer": "ipython3",
   "version": "3.8.2"
  }
 },
 "nbformat": 4,
 "nbformat_minor": 2
}
